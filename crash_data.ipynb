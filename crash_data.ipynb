{
 "cells": [
  {
   "cell_type": "code",
   "execution_count": 2,
   "id": "f5c76fed-25ab-4c0b-91b7-03c481b69f1f",
   "metadata": {},
   "outputs": [],
   "source": [
    "import numpy as np\n",
    "import pandas as pd"
   ]
  },
  {
   "cell_type": "code",
   "execution_count": 3,
   "id": "9aff873c-fd46-405d-a8a1-c1368be2ea69",
   "metadata": {},
   "outputs": [
    {
     "name": "stderr",
     "output_type": "stream",
     "text": [
      "/tmp/ipykernel_28361/2305336900.py:3: DtypeWarning: Columns (1) have mixed types. Specify dtype option on import or set low_memory=False.\n",
      "  df = pd.read_csv('crash_data.csv')\n"
     ]
    }
   ],
   "source": [
    "# Cargo el dataset\n",
    "\n",
    "df = pd.read_csv('crash_data.csv')"
   ]
  },
  {
   "cell_type": "code",
   "execution_count": 4,
   "id": "f6106ea6-4d72-4287-a290-d50707b09f54",
   "metadata": {},
   "outputs": [
    {
     "name": "stdout",
     "output_type": "stream",
     "text": [
      "<class 'pandas.core.frame.DataFrame'>\n",
      "RangeIndex: 172105 entries, 0 to 172104\n",
      "Data columns (total 43 columns):\n",
      " #   Column                          Non-Null Count   Dtype  \n",
      "---  ------                          --------------   -----  \n",
      " 0   Report Number                   172105 non-null  object \n",
      " 1   Local Case Number               172105 non-null  object \n",
      " 2   Agency Name                     172105 non-null  object \n",
      " 3   ACRS Report Type                172105 non-null  object \n",
      " 4   Crash Date/Time                 172105 non-null  object \n",
      " 5   Route Type                      155132 non-null  object \n",
      " 6   Road Name                       156168 non-null  object \n",
      " 7   Cross-Street Type               155099 non-null  object \n",
      " 8   Cross-Street Name               156154 non-null  object \n",
      " 9   Off-Road Description            15935 non-null   object \n",
      " 10  Municipality                    19126 non-null   object \n",
      " 11  Related Non-Motorist            5463 non-null    object \n",
      " 12  Collision Type                  171520 non-null  object \n",
      " 13  Weather                         158751 non-null  object \n",
      " 14  Surface Condition               151987 non-null  object \n",
      " 15  Light                           170660 non-null  object \n",
      " 16  Traffic Control                 146636 non-null  object \n",
      " 17  Driver Substance Abuse          140781 non-null  object \n",
      " 18  Non-Motorist Substance Abuse    4317 non-null    object \n",
      " 19  Person ID                       172105 non-null  object \n",
      " 20  Driver At Fault                 172105 non-null  object \n",
      " 21  Injury Severity                 172105 non-null  object \n",
      " 22  Circumstance                    31359 non-null   object \n",
      " 23  Driver Distracted By            172105 non-null  object \n",
      " 24  Drivers License State           162155 non-null  object \n",
      " 25  Vehicle ID                      172105 non-null  object \n",
      " 26  Vehicle Damage Extent           171789 non-null  object \n",
      " 27  Vehicle First Impact Location   171949 non-null  object \n",
      " 28  Vehicle Second Impact Location  171849 non-null  object \n",
      " 29  Vehicle Body Type               169456 non-null  object \n",
      " 30  Vehicle Movement                171719 non-null  object \n",
      " 31  Vehicle Continuing Dir          169416 non-null  object \n",
      " 32  Vehicle Going Dir               169416 non-null  object \n",
      " 33  Speed Limit                     172105 non-null  int64  \n",
      " 34  Driverless Vehicle              172105 non-null  object \n",
      " 35  Parked Vehicle                  172105 non-null  object \n",
      " 36  Vehicle Year                    172105 non-null  int64  \n",
      " 37  Vehicle Make                    172081 non-null  object \n",
      " 38  Vehicle Model                   172039 non-null  object \n",
      " 39  Equipment Problems              137964 non-null  object \n",
      " 40  Latitude                        172105 non-null  float64\n",
      " 41  Longitude                       172105 non-null  float64\n",
      " 42  Location                        172105 non-null  object \n",
      "dtypes: float64(2), int64(2), object(39)\n",
      "memory usage: 56.5+ MB\n",
      "None\n"
     ]
    }
   ],
   "source": [
    "# Obtengo información general del dataset\n",
    "\n",
    "print(df.info())"
   ]
  },
  {
   "cell_type": "code",
   "execution_count": 7,
   "id": "c4c73144-08d2-4f62-a9e5-9feb0d985362",
   "metadata": {},
   "outputs": [
    {
     "name": "stdout",
     "output_type": "stream",
     "text": [
      "Index(['Report Number', 'Local Case Number', 'Agency Name', 'ACRS Report Type',\n",
      "       'Crash Date/Time', 'Route Type', 'Road Name', 'Cross-Street Type',\n",
      "       'Cross-Street Name', 'Off-Road Description', 'Municipality',\n",
      "       'Related Non-Motorist', 'Collision Type', 'Weather',\n",
      "       'Surface Condition', 'Light', 'Traffic Control',\n",
      "       'Driver Substance Abuse', 'Non-Motorist Substance Abuse', 'Person ID',\n",
      "       'Driver At Fault', 'Injury Severity', 'Circumstance',\n",
      "       'Driver Distracted By', 'Drivers License State', 'Vehicle ID',\n",
      "       'Vehicle Damage Extent', 'Vehicle First Impact Location',\n",
      "       'Vehicle Second Impact Location', 'Vehicle Body Type',\n",
      "       'Vehicle Movement', 'Vehicle Continuing Dir', 'Vehicle Going Dir',\n",
      "       'Speed Limit', 'Driverless Vehicle', 'Parked Vehicle', 'Vehicle Year',\n",
      "       'Vehicle Make', 'Vehicle Model', 'Equipment Problems', 'Latitude',\n",
      "       'Longitude', 'Location'],\n",
      "      dtype='object')\n"
     ]
    }
   ],
   "source": [
    "# Muestro los nombres de las columnas\n",
    "print(df.columns)"
   ]
  },
  {
   "cell_type": "code",
   "execution_count": 8,
   "id": "8e652c6d-407b-429f-b743-0b50fad86a60",
   "metadata": {},
   "outputs": [
    {
     "name": "stdout",
     "output_type": "stream",
     "text": [
      "         Speed Limit   Vehicle Year       Latitude      Longitude\n",
      "count  172105.000000  172105.000000  172105.000000  172105.000000\n",
      "mean       32.549752    1966.306946      39.083119     -77.112343\n",
      "std        11.059987     340.615468       0.072032       0.098571\n",
      "min         0.000000       0.000000      37.720000     -79.486000\n",
      "25%        25.000000    2006.000000      39.024417     -77.189327\n",
      "50%        35.000000    2011.000000      39.074933     -77.105412\n",
      "75%        40.000000    2015.000000      39.139742     -77.039592\n",
      "max        75.000000    9999.000000      39.990414     -75.527708\n"
     ]
    }
   ],
   "source": [
    "# Obtengo estadísticas descriptivas básicas\n",
    "print(df.describe())"
   ]
  },
  {
   "cell_type": "code",
   "execution_count": 6,
   "id": "2ab609fc-8167-4b6d-89cc-e88cc0b75bad",
   "metadata": {},
   "outputs": [
    {
     "name": "stdout",
     "output_type": "stream",
     "text": [
      "  Report Number Local Case Number                Agency Name  \\\n",
      "0   MCP3170003V         240000438   Montgomery County Police   \n",
      "1   MCP3254003K         230072050   Montgomery County Police   \n",
      "2    EJ7887003Q         230074270  Gaithersburg Police Depar   \n",
      "3   MCP2674004J         230064598   Montgomery County Police   \n",
      "4   MCP25280008         230067019   Montgomery County Police   \n",
      "5    EJ7887003Q         230074270  Gaithersburg Police Depar   \n",
      "6   MCP3039006P         230072243   Montgomery County Police   \n",
      "7   MCP2239002M         230065616   Montgomery County Police   \n",
      "8   MCP2667008Z         230073137   Montgomery County Police   \n",
      "9   MCP3170003X         240001395   Montgomery County Police   \n",
      "\n",
      "        ACRS Report Type         Crash Date/Time        Route Type  \\\n",
      "0  Property Damage Crash  01/03/2024 02:55:00 PM               NaN   \n",
      "1           Injury Crash  12/16/2023 12:36:00 PM  Maryland (State)   \n",
      "2           Injury Crash  12/29/2023 12:00:00 PM  Maryland (State)   \n",
      "3  Property Damage Crash  11/05/2023 09:07:00 PM  Maryland (State)   \n",
      "4  Property Damage Crash  11/18/2023 12:40:00 AM  Maryland (State)   \n",
      "5           Injury Crash  12/29/2023 12:00:00 PM  Maryland (State)   \n",
      "6           Injury Crash  12/17/2023 05:43:00 PM  Maryland (State)   \n",
      "7  Property Damage Crash  11/10/2023 02:04:00 PM               NaN   \n",
      "8           Injury Crash  12/22/2023 01:00:00 PM  Maryland (State)   \n",
      "9  Property Damage Crash  12/12/2023 05:00:00 AM               NaN   \n",
      "\n",
      "          Road Name Cross-Street Type    Cross-Street Name  \\\n",
      "0               NaN               NaN                  NaN   \n",
      "1     GERMANTOWN RD            County       MIDDLEBROOK RD   \n",
      "2  GREAT SENECA HWY      Municipality       KENTLANDS BLVD   \n",
      "3      WOODFIELD RD            County       GLENDALOUGH RD   \n",
      "4     CLARKSBURG RD  Maryland (State)        CLARKSBURG RD   \n",
      "5  GREAT SENECA HWY      Municipality       KENTLANDS BLVD   \n",
      "6       GEORGIA AVE        US (State)        COLESVILLE RD   \n",
      "7               NaN               NaN                  NaN   \n",
      "8      WOODFIELD RD            County  SNOUFFERS SCHOOL RD   \n",
      "9               NaN               NaN                  NaN   \n",
      "\n",
      "             Off-Road Description  ... Speed Limit Driverless Vehicle  \\\n",
      "0   IN FRONT OF 18900 BIRDSEYE DR  ...           0                 No   \n",
      "1                             NaN  ...          35                 No   \n",
      "2                             NaN  ...          35                 No   \n",
      "3                             NaN  ...          40                 No   \n",
      "4                             NaN  ...          20                 No   \n",
      "5                             NaN  ...          35                 No   \n",
      "6                             NaN  ...          35                 No   \n",
      "7       GRASS OF 7811 MONTROSE RD  ...          10                 No   \n",
      "8                             NaN  ...          35                 No   \n",
      "9  PARKING LOT OF 19715 WATERS RD  ...           0                 No   \n",
      "\n",
      "  Parked Vehicle Vehicle Year   Vehicle Make  Vehicle Model  \\\n",
      "0             No         2017          LEXUS            SUV   \n",
      "1             No         2010           TOYT          PRIUS   \n",
      "2             No         2021         SUBARU      FORRESTER   \n",
      "3             No         2019          DODGE        CHARGER   \n",
      "4             No         2014         NISSAN          ROGUE   \n",
      "5             No         1991  MERCEDES-BENZ           L350   \n",
      "6             No         2015         TOYOTA        COROLLA   \n",
      "7             No         2010          LEXUS          ES350   \n",
      "8             No         2009           HYUN  SPORT UTILITY   \n",
      "9             No         2005           NDMC          TRUCK   \n",
      "\n",
      "  Equipment Problems   Latitude  Longitude                     Location  \n",
      "0          NO MISUSE  39.165005 -77.249310     (39.16500483, -77.24931)  \n",
      "1          NO MISUSE  39.178776 -77.267190  (39.17877577, -77.26718974)  \n",
      "2          NO MISUSE  39.123574 -77.231769    (39.12357374, -77.231769)  \n",
      "3          NO MISUSE  39.211742 -77.171461  (39.21174219, -77.17146065)  \n",
      "4                NaN  39.228915 -77.289091  (39.22891483, -77.28909117)  \n",
      "5          NO MISUSE  39.123574 -77.231769    (39.12357374, -77.231769)  \n",
      "6          NO MISUSE  38.995899 -77.028188  (38.99589921, -77.02818753)  \n",
      "7          NO MISUSE  39.063839 -77.160835    (39.063839, -77.16083517)  \n",
      "8            UNKNOWN  39.159079 -77.160541  (39.15907918, -77.16054149)  \n",
      "9          NO MISUSE  39.180337 -77.273018   (39.18033651, -77.2730184)  \n",
      "\n",
      "[10 rows x 43 columns]\n"
     ]
    }
   ],
   "source": [
    "# Muestro las primeras 10 filas del dataset\n",
    "print(df.head(10))"
   ]
  }
 ],
 "metadata": {
  "kernelspec": {
   "display_name": "Python 3 (ipykernel)",
   "language": "python",
   "name": "python3"
  },
  "language_info": {
   "codemirror_mode": {
    "name": "ipython",
    "version": 3
   },
   "file_extension": ".py",
   "mimetype": "text/x-python",
   "name": "python",
   "nbconvert_exporter": "python",
   "pygments_lexer": "ipython3",
   "version": "3.12.3"
  }
 },
 "nbformat": 4,
 "nbformat_minor": 5
}
